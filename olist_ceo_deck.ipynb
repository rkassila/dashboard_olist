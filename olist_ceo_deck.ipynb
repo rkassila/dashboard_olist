{
  "cells": [
    {
      "cell_type": "markdown",
      "metadata": {},
      "source": [
        "# Olist CEO Dashboard Companion\n",
        "\n",
        "This notebook mirrors the interactive Dash dashboard. Run it top to bottom to regenerate each figure for decks or executive briefings.\n",
        "\n"
      ]
    },
    {
      "cell_type": "code",
      "execution_count": null,
      "metadata": {},
      "outputs": [],
      "source": [
        "from dashboard.data import load_dashboard_data\n",
        "from dashboard.utils import METRIC_LABELS, format_brl, format_percent, format_category_name\n",
        "\n",
        "import pandas as pd\n",
        "import plotly.express as px\n",
        "import plotly.graph_objects as go\n"
      ]
    },
    {
      "cell_type": "code",
      "execution_count": null,
      "metadata": {},
      "outputs": [],
      "source": [
        "data = load_dashboard_data()\n",
        "\n",
        "print(f\"Sections: {list(METRIC_LABELS.values())[:]}\\n\")\n",
        "print(\"Financial overview keys:\", data.financial_overview.keys())\n"
      ]
    },
    {
      "cell_type": "markdown",
      "metadata": {},
      "source": [
        "## 1. Executive Overview\n",
        "\n",
        "Waterfall chart mirroring the dashboard overview.\n",
        "\n"
      ]
    },
    {
      "cell_type": "code",
      "execution_count": null,
      "metadata": {},
      "outputs": [],
      "source": [
        "data.waterfall_figure\n"
      ]
    },
    {
      "cell_type": "code",
      "execution_count": null,
      "metadata": {},
      "outputs": [],
      "source": [
        "financials = data.financial_overview\n",
        "\n",
        "kpi_summary = pd.DataFrame(\n",
        "    {\n",
        "        \"Metric\": [\n",
        "            \"Total revenue\",\n",
        "            \"Net profit\",\n",
        "            \"Net margin\",\n",
        "            \"Active sellers\",\n",
        "        ],\n",
        "        \"Value\": [\n",
        "            format_brl(financials[\"revenues_total\"]),\n",
        "            format_brl(financials[\"profits_net\"]),\n",
        "            format_percent(financials[\"margin\"]),\n",
        "            f\"{financials['seller_count']:,}\",\n",
        "        ],\n",
        "    }\n",
        ")\n",
        "\n",
        "kpi_summary\n"
      ]
    },
    {
      "cell_type": "markdown",
      "metadata": {},
      "source": [
        "## 2. Revenue Drivers\n",
        "\n",
        "Monthly revenue trend and top categories (matching the dashboard selectors).\n",
        "\n"
      ]
    },
    {
      "cell_type": "code",
      "execution_count": null,
      "metadata": {},
      "outputs": [],
      "source": [
        "monthly_metrics = data.monthly_metrics.copy()\n",
        "selected_metrics = [\"net_revenue\", \"olist_revenue\", \"reputation_cost\"]\n",
        "rename_map = {metric: METRIC_LABELS.get(metric, metric) for metric in selected_metrics}\n",
        "trend_df = monthly_metrics[[\"month\"] + selected_metrics].rename(columns=rename_map)\n",
        "\n",
        "px.line(\n",
        "    trend_df,\n",
        "    x=\"month\",\n",
        "    y=list(rename_map.values()),\n",
        "    markers=True,\n",
        "    template=\"plotly_white\",\n",
        "    title=\"Monthly revenue vs. reputation drag\",\n",
        ")\n"
      ]
    },
    {
      "cell_type": "code",
      "execution_count": null,
      "metadata": {},
      "outputs": [],
      "source": [
        "top_n = 10\n",
        "category_df = data.category_profitability.nlargest(top_n, \"net_profit\").iloc[::-1].copy()\n",
        "category_df[\"profit_margin\"] = (\n",
        "    category_df[\"net_profit\"] / category_df[\"olist_commission\"].replace(0, pd.NA)\n",
        ").fillna(0.0)\n",
        "\n",
        "px.bar(\n",
        "    category_df,\n",
        "    x=\"net_profit\",\n",
        "    y=\"product_category\",\n",
        "    orientation=\"h\",\n",
        "    text_auto=\".2s\",\n",
        "    color=\"profit_margin\",\n",
        "    color_continuous_scale=\"Blues\",\n",
        "    hover_data={\n",
        "        \"net_profit\": \":,.0f\",\n",
        "        \"olist_commission\": \":,.0f\",\n",
        "        \"reputation_cost\": \":,.0f\",\n",
        "        \"order_count\": True,\n",
        "        \"profit_margin\": \":.1%\",\n",
        "    },\n",
        "    template=\"plotly_white\",\n",
        "    title=f\"Top {top_n} categories by net profit\",\n",
        ")\n"
      ]
    },
    {
      "cell_type": "markdown",
      "metadata": {},
      "source": [
        "## 3. Customer Trust\n",
        "\n",
        "Delivery delay vs. review score scatter plot with volume filter.\n",
        "\n"
      ]
    },
    {
      "cell_type": "code",
      "execution_count": null,
      "metadata": {},
      "outputs": [],
      "source": [
        "state_df = data.state_metrics.copy()\n",
        "min_orders = data.state_slider.default or 0\n",
        "filtered_states = state_df[state_df[\"order_count\"] >= min_orders].copy()\n",
        "\n",
        "if filtered_states.empty:\n",
        "    filtered_states = state_df.nlargest(10, \"order_count\").copy()\n",
        "\n",
        "px.scatter(\n",
        "    filtered_states,\n",
        "    x=\"avg_delay\",\n",
        "    y=\"avg_review\",\n",
        "    size=\"olist_commission\",\n",
        "    color=\"avg_delay\",\n",
        "    hover_name=\"customer_state_name\",\n",
        "    hover_data={\n",
        "        \"avg_delay\": \":.1f\",\n",
        "        \"avg_review\": \":.2f\",\n",
        "        \"order_count\": True,\n",
        "        \"olist_commission\": \":,.0f\",\n",
        "    },\n",
        "    template=\"plotly_white\",\n",
        "    color_continuous_scale=\"RdYlGn_r\",\n",
        "    title=\"Delivery delay vs. customer satisfaction\",\n",
        ").update_layout(yaxis=dict(range=[2.5, 5.1]))\n"
      ]
    },
    {
      "cell_type": "markdown",
      "metadata": {},
      "source": [
        "## 4. Seller Strategy\n",
        "\n",
        "What-if line chart for removing underperforming sellers.\n",
        "\n"
      ]
    },
    {
      "cell_type": "code",
      "execution_count": null,
      "metadata": {},
      "outputs": [],
      "source": [
        "strategy_df = data.strategy_df.copy()\n",
        "plot_df = strategy_df.melt(\n",
        "    id_vars=[\"sellers_removed\"],\n",
        "    value_vars=[\"net_profit\", \"revenues\", \"total_costs\"],\n",
        "    var_name=\"Metric\",\n",
        "    value_name=\"BRL\",\n",
        ")\n",
        "\n",
        "fig = px.line(\n",
        "    plot_df,\n",
        "    x=\"sellers_removed\",\n",
        "    y=\"BRL\",\n",
        "    color=\"Metric\",\n",
        "    template=\"plotly_white\",\n",
        "    markers=True,\n",
        "    color_discrete_map={\n",
        "        \"net_profit\": \"#2563eb\",\n",
        "        \"revenues\": \"#14b8a6\",\n",
        "        \"total_costs\": \"#f97316\",\n",
        "    },\n",
        "    title=\"Financial impact by sellers removed\",\n",
        ")\n",
        "fig.add_vline(\n",
        "    x=data.strategy_slider.default,\n",
        "    line_dash=\"dash\",\n",
        "    line_color=\"#f97316\",\n",
        "    annotation_text=\"Default scenario\",\n",
        "    annotation_position=\"top right\",\n",
        ")\n",
        "fig\n"
      ]
    },
    {
      "cell_type": "markdown",
      "metadata": {},
      "source": [
        "## 5. CEO Next Moves\n",
        "\n",
        "Recreate the numbers driving the recommendations panel.\n",
        "\n"
      ]
    },
    {
      "cell_type": "code",
      "execution_count": null,
      "metadata": {},
      "outputs": [],
      "source": [
        "summary = pd.DataFrame(\n",
        "    {\n",
        "        \"Headline\": [\n",
        "            \"Latest monthly net revenue\",\n",
        "            \"Profit uplift (profit-max scenario)\",\n",
        "            \"Lean margin scenario\",\n",
        "        ],\n",
        "        \"Value\": [\n",
        "            format_brl(data.latest_net_revenue),\n",
        "            format_brl(data.profit_uplift),\n",
        "            format_percent(data.margin_strategy[\"margin\"]),\n",
        "        ],\n",
        "        \"Context\": [\n",
        "            f\"Change vs. previous month: {format_brl(abs(data.net_revenue_change))}\",\n",
        "            f\"Remove {int(data.profit_strategy['sellers_removed']):,} sellers\",\n",
        "            f\"Baseline margin: {format_percent(data.baseline_strategy['margin'])}\",\n",
        "        ],\n",
        "    }\n",
        ")\n",
        "summary\n"
      ]
    },
    {
      "cell_type": "markdown",
      "metadata": {},
      "source": [
        "### Recommended actions\n",
        "\n",
        "- Keep revenue momentum with the latest net revenue figure and CRM alignment.\n",
        "- Stabilise delivery promise in the slowest state using playbooks from the fastest.\n",
        "- Focus investment on hero categories driving net profit after reputation costs.\n",
        "- Execute seller pruning plan to unlock profit uplift while maintaining partner base.\n",
        "- Amplify promoters by replicating CX rituals from the top-rated state.\n",
        "\n"
      ]
    }
  ],
  "metadata": {
    "language_info": {
      "name": "python"
    }
  },
  "nbformat": 4,
  "nbformat_minor": 2
}
